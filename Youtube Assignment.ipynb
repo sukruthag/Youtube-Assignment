{
 "cells": [
  {
   "cell_type": "code",
   "execution_count": 1,
   "id": "33b174c4",
   "metadata": {},
   "outputs": [
    {
     "name": "stdout",
     "output_type": "stream",
     "text": [
      "Collecting pytubeNote: you may need to restart the kernel to use updated packages.\n",
      "  Downloading pytube-12.1.0-py3-none-any.whl (56 kB)\n",
      "Installing collected packages: pytube\n",
      "\n",
      "Successfully installed pytube-12.1.0\n"
     ]
    }
   ],
   "source": [
    "pip install pytube"
   ]
  },
  {
   "cell_type": "markdown",
   "id": "834b89e9",
   "metadata": {},
   "source": [
    "##### To get keywords"
   ]
  },
  {
   "cell_type": "code",
   "execution_count": 3,
   "id": "0e854b6f",
   "metadata": {},
   "outputs": [],
   "source": [
    "from pytube import YouTube\n",
    "\n",
    "def keywordss(url):\n",
    "    yt = YouTube(url)\n",
    "    return yt.keywords"
   ]
  },
  {
   "cell_type": "code",
   "execution_count": 4,
   "id": "f121b456",
   "metadata": {},
   "outputs": [],
   "source": [
    "url=\"https://www.youtube.com/watch?v=KGE0x5dIpxA\""
   ]
  },
  {
   "cell_type": "code",
   "execution_count": 5,
   "id": "78553cb8",
   "metadata": {},
   "outputs": [
    {
     "data": {
      "text/plain": [
       "['fantastic trick',\n",
       " 'mind-blowing',\n",
       " 'the coolest test',\n",
       " 'magic',\n",
       " 'fun',\n",
       " 'fun with your friends',\n",
       " 'your name',\n",
       " 'I will guess your name',\n",
       " 'test',\n",
       " 'simple math',\n",
       " 'unbelievable trick',\n",
       " 'fun math',\n",
       " 'fun test',\n",
       " 'psychic',\n",
       " 'will read your mind',\n",
       " 'shocking test',\n",
       " 'april fools pranks',\n",
       " 'trick your friends',\n",
       " 'april fools day',\n",
       " 'april fools',\n",
       " 'best pranks']"
      ]
     },
     "execution_count": 5,
     "metadata": {},
     "output_type": "execute_result"
    }
   ],
   "source": [
    "keywordss(url)"
   ]
  },
  {
   "cell_type": "markdown",
   "id": "257dad46",
   "metadata": {},
   "source": [
    "## Youtube Channel Name - Tech Burner\n",
    "https://www.youtube.com/watch?v=PYL1WmETg8s"
   ]
  },
  {
   "cell_type": "code",
   "execution_count": 14,
   "id": "7fb4ad31",
   "metadata": {},
   "outputs": [],
   "source": [
    "url1 = 'https://www.youtube.com/watch?v=PYL1WmETg8s'"
   ]
  },
  {
   "cell_type": "code",
   "execution_count": 15,
   "id": "56cbbcd3",
   "metadata": {},
   "outputs": [
    {
     "data": {
      "text/plain": [
       "['earphones',\n",
       " 'best earphones',\n",
       " 'headphones',\n",
       " 'earbuds',\n",
       " 'best earbuds',\n",
       " 'best earbuds 2017',\n",
       " 'best budget earphones',\n",
       " 'best wireless earphones 2017',\n",
       " 'wireless earbuds',\n",
       " 'best in-ear headphones',\n",
       " 'best',\n",
       " 'best wireless earbuds',\n",
       " 'best in ear headphones',\n",
       " 'best wireless earphones',\n",
       " 'best earphones 2016',\n",
       " 'best quality earphones',\n",
       " 'best in-ear earphones',\n",
       " 'technology',\n",
       " 'best wireless headphones',\n",
       " 'best headphones',\n",
       " 'review',\n",
       " 'best earbuds wireless 2017',\n",
       " 'best wireless earbuds 2017 - top 5']"
      ]
     },
     "execution_count": 15,
     "metadata": {},
     "output_type": "execute_result"
    }
   ],
   "source": [
    "keywordss(url1)"
   ]
  },
  {
   "cell_type": "markdown",
   "id": "bad8eb23",
   "metadata": {},
   "source": [
    "## Youtube Channel Name - Sinful Foodie https://www.youtube.com/c/SinfulFoodieps"
   ]
  },
  {
   "cell_type": "code",
   "execution_count": 10,
   "id": "6b27ca19",
   "metadata": {},
   "outputs": [],
   "source": [
    "url2 = 'https://www.youtube.com/watch?v=qlw6NQiJiYM'"
   ]
  },
  {
   "cell_type": "code",
   "execution_count": 11,
   "id": "270dbdbe",
   "metadata": {},
   "outputs": [
    {
     "data": {
      "text/plain": [
       "['sinful foodie',\n",
       " 'I only ate shinchan Food for 24 Hours',\n",
       " 'Shinchan food',\n",
       " 'Shinchan Food for 24 hours',\n",
       " '24 Hours Shinchan Food',\n",
       " 'Famous Cartoon food',\n",
       " 'Famous Cartoon Character',\n",
       " '24 Hours',\n",
       " '24 Hours Food Challenge',\n",
       " 'Food Challenge',\n",
       " 'Caramel Custard',\n",
       " 'Action Kamey',\n",
       " 'Choco chips',\n",
       " 'Pizza',\n",
       " 'Rice Ball',\n",
       " 'Mc Donalds',\n",
       " 'Donuts',\n",
       " 'shinchan in hindi',\n",
       " '24 hour challenge',\n",
       " 'shinchan new episode',\n",
       " 'living like shinchan for 24 hours',\n",
       " '24 hour food challenge',\n",
       " '24 hours challenge']"
      ]
     },
     "execution_count": 11,
     "metadata": {},
     "output_type": "execute_result"
    }
   ],
   "source": [
    "keywordss(url2)"
   ]
  },
  {
   "cell_type": "markdown",
   "id": "326515e8",
   "metadata": {},
   "source": [
    "## Youtube Channel Name - AG FLEX HD\n",
    "https://www.youtube.com/c/AGFlexHD"
   ]
  },
  {
   "cell_type": "code",
   "execution_count": 16,
   "id": "5334335b",
   "metadata": {},
   "outputs": [
    {
     "data": {
      "text/plain": [
       "['Fights In Cricket History Ever 2019',\n",
       " 'Cricket Fights Between India and Pakistan',\n",
       " 'Funny Physical Fights in Cricket',\n",
       " 'Fights In Cricket History',\n",
       " 'Marlon Samuels Fight In Cricket',\n",
       " 'Dream 11',\n",
       " 'Funny Fights Pakistan',\n",
       " 'Gautam Gambhir Fight In Cricket',\n",
       " 'Dream 11 IPL',\n",
       " 'Fights In Cricket',\n",
       " 'Shahid Afridi Fight In Cricket',\n",
       " 'Funny Fights in Cricket',\n",
       " 'Fights In IPL 2020',\n",
       " 'Cricket Fights',\n",
       " 'Virat Kohli Fight In Cricket',\n",
       " 'IPL 2020',\n",
       " 'MS Dhoni Fight In Cricket',\n",
       " 'Fight in Cricket History',\n",
       " 'AG Flex HD']"
      ]
     },
     "execution_count": 16,
     "metadata": {},
     "output_type": "execute_result"
    }
   ],
   "source": [
    "url3 = \"https://www.youtube.com/watch?v=aFIIBugm4Hc\"\n",
    "keywordss(url3)"
   ]
  },
  {
   "cell_type": "markdown",
   "id": "62f7b755",
   "metadata": {},
   "source": [
    "## Youtube Channel Name - Ariana Grande\n",
    "https://www.youtube.com/channel/UC9CoOnJkIBMdeijd9qYoT_g"
   ]
  },
  {
   "cell_type": "code",
   "execution_count": 17,
   "id": "cc1f752d",
   "metadata": {},
   "outputs": [
    {
     "data": {
      "text/plain": [
       "['Ariana', 'Grande', 'Tears', 'Left', 'Cry', 'Universal', 'Records', 'Pop']"
      ]
     },
     "execution_count": 17,
     "metadata": {},
     "output_type": "execute_result"
    }
   ],
   "source": [
    "url4 = \"https://www.youtube.com/watch?v=ffxKSjUwKdU\"\n",
    "keywordss(url4)"
   ]
  },
  {
   "cell_type": "markdown",
   "id": "9d5e845d",
   "metadata": {},
   "source": [
    "## Youtube Channel Name - Satyam Technical\n",
    "https://www.youtube.com/c/SatyamTechnical"
   ]
  },
  {
   "cell_type": "code",
   "execution_count": 18,
   "id": "03e95ddc",
   "metadata": {},
   "outputs": [
    {
     "data": {
      "text/plain": [
       "['how to download instagram videos on android 2020',\n",
       " 'how to download instagram video without any app',\n",
       " 'instagram video',\n",
       " 'instagram video download kaise kare',\n",
       " 'instagram video save to gallery',\n",
       " 'instagram video download android',\n",
       " 'instagram video kaise save karen',\n",
       " 'instagram',\n",
       " 'download instagram videos',\n",
       " 'how to download instagram videos',\n",
       " 'how to download instagram videos on android',\n",
       " 'How to',\n",
       " 'satyam technical',\n",
       " 'satyam shakti',\n",
       " 'how to download instagram reels video',\n",
       " 'instagram video downloader']"
      ]
     },
     "execution_count": 18,
     "metadata": {},
     "output_type": "execute_result"
    }
   ],
   "source": [
    "url5 = \"https://www.youtube.com/watch?v=beSZJY-qzTo\"\n",
    "keywordss(url5)\n"
   ]
  },
  {
   "cell_type": "code",
   "execution_count": null,
   "id": "13877698",
   "metadata": {},
   "outputs": [],
   "source": []
  }
 ],
 "metadata": {
  "kernelspec": {
   "display_name": "Python 3",
   "language": "python",
   "name": "python3"
  },
  "language_info": {
   "codemirror_mode": {
    "name": "ipython",
    "version": 3
   },
   "file_extension": ".py",
   "mimetype": "text/x-python",
   "name": "python",
   "nbconvert_exporter": "python",
   "pygments_lexer": "ipython3",
   "version": "3.8.8"
  }
 },
 "nbformat": 4,
 "nbformat_minor": 5
}
